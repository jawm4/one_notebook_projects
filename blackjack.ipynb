{
 "cells": [
  {
   "cell_type": "markdown",
   "metadata": {},
   "source": [
    "## Blackjack\n",
    "1.\tConstruct a deck of cards. 52 cards in total, A,2,3,…,J,Q,K for each suit (Spade/Diamond/Heart/Club)\n",
    "2.\tShuffle cards randomly.\n",
    "3.\tIf A can be 1 or 11; each J,Q,K equals to 10; and the numbered cards have their respective face values\n",
    "    Define a function to calculate the maximum value, but <=21, of a set of cards. \n",
    "    For example: the set ”AAAA” would have a value 14\n",
    "4.\tIn a game of comparing card sets value (Players will always use maximum values of the set as calculated in Q3). From player 1’s point of view, he sees that\n",
    "    * He has Club 6 and Spade J (total is 16).\n",
    "    * The other player (player 2) has 2 Cards. One is shown to be Club K, while the other one is not shown. \n",
    "    * If player 2 have decided to stay (meaning not getting any more cards), please use simulation method to find the probability of player 1 winning (player 1 set value > player 2 set value) if player 1 can get one and only one more card.\n",
    "5.\tImplement an algorithm of your choice (but not using existing sort functions) to sort cards by suit and rank (same suit stack together). \n"
   ]
  },
  {
   "cell_type": "markdown",
   "metadata": {},
   "source": [
    "### Simulation"
   ]
  },
  {
   "cell_type": "code",
   "execution_count": 1,
   "metadata": {},
   "outputs": [],
   "source": [
    "import numpy as np\n",
    "#constructing a deck of cards and shuffling (so far the colors does not matter):\n",
    "partial_deck = ['A', 2, 3, 4, 5, 6, 7, 8, 9, 10, 'J', 'Q', 'K']\n",
    "deck = 4 * partial_deck\n",
    "np.random.shuffle(deck)"
   ]
  },
  {
   "cell_type": "code",
   "execution_count": 6,
   "metadata": {},
   "outputs": [],
   "source": [
    "#define the function that finds maximum value of the combination of given set of cards\n",
    "\n",
    "def set_value(deck):\n",
    "    deck = list(deck)\n",
    "    value = 0\n",
    "    for i in range(len(deck)):\n",
    "        if (deck[i] == 'J') | (deck[i] == 'K') | (deck[i] == 'Q'):\n",
    "            card_value = 10\n",
    "        elif deck[i] == 'A':\n",
    "            #A value is dependent on the rules\n",
    "            card_value = 11\n",
    "            # card_value = 1\n",
    "        elif (deck[i] == '0') & (deck[i-1] == '1'):\n",
    "            card_value = 10 - 1\n",
    "        else:\n",
    "            card_value = int(deck[i])\n",
    "        \n",
    "        value += card_value\n",
    "        \n",
    "    if value <= 21:\n",
    "        return value\n",
    "    else:\n",
    "        return \"Set has value over 21\""
   ]
  },
  {
   "cell_type": "code",
   "execution_count": 7,
   "metadata": {},
   "outputs": [
    {
     "name": "stdout",
     "output_type": "stream",
     "text": [
      "Probability of player's one win is equal to 50.114000000000004%\n"
     ]
    }
   ],
   "source": [
    "#simulation\n",
    "sims, wins = 100000, 0\n",
    "\n",
    "for _ in range(sims):\n",
    "    #initial state\n",
    "    game_deck = deck[:]\n",
    "    player_one = [6, 'J']\n",
    "    player_two = ['K']\n",
    "    game_deck.remove(6)\n",
    "    game_deck.remove('J')\n",
    "    game_deck.remove('K')\n",
    "    \n",
    "    #guessing the player's two second card\n",
    "    player_two.append(np.random.choice(game_deck))\n",
    "    try:\n",
    "        if int(player_two[1]) in range(1,11):\n",
    "            game_deck.remove(int(player_two[1]))\n",
    "            player_two[1] = int(player_two[1])\n",
    "    except:\n",
    "        game_deck.remove(player_two[1])\n",
    "    \n",
    "    #taking one card for player one and checking if it is better. we are considering only 6, because it worse than .  \n",
    "    third_card = np.random.choice(game_deck)\n",
    "    if set_value(third_card) > 6:\n",
    "        player_one[0] = third_card\n",
    "    \n",
    "    #counting player's one wins\n",
    "    if set_value(player_one) > set_value(player_two):\n",
    "        wins += 1\n",
    "\n",
    "\n",
    "print(\"Probability of player's one win is equal to {0}%\".format(wins/sims*100))"
   ]
  },
  {
   "cell_type": "markdown",
   "metadata": {},
   "source": [
    "### Sorting"
   ]
  },
  {
   "cell_type": "code",
   "execution_count": 8,
   "metadata": {},
   "outputs": [],
   "source": [
    "#creating deck\n",
    "spade = ['S' + str(x) for x in partial_deck]\n",
    "diamond = ['D' + str(x) for x in partial_deck]\n",
    "heart = ['H' + str(x) for x in partial_deck]\n",
    "club = ['C' + str(x) for x in partial_deck]\n",
    "\n",
    "deck_to_sort = spade + diamond + heart + club\n",
    "\n",
    "np.random.shuffle(deck_to_sort)"
   ]
  },
  {
   "cell_type": "code",
   "execution_count": 9,
   "metadata": {},
   "outputs": [],
   "source": [
    "# Dividing the deck into colours\n",
    "sorted_deck = []\n",
    "k=0\n",
    "while any(deck_to_sort) > 0:\n",
    "    #sorting by colors\n",
    "    if deck_to_sort[k] == 0:\n",
    "        k+=1\n",
    "        continue\n",
    "    color = list(deck_to_sort[k])[0]\n",
    "    sorted_deck.append(deck_to_sort[k])\n",
    "    deck_to_sort[k] = 0\n",
    "    k+=1\n",
    "    for j in range(len(deck_to_sort)):\n",
    "        if deck_to_sort[j] == 0:\n",
    "            continue\n",
    "        elif list(deck_to_sort[j])[0] == color:\n",
    "            sorted_deck.append(deck_to_sort[j])\n",
    "            deck_to_sort[j] = 0\n",
    "        else:\n",
    "            continue\n",
    "            \n",
    "sort = [sorted_deck[0:13], sorted_deck[13:26], sorted_deck[26:39], sorted_deck[39:]]"
   ]
  },
  {
   "cell_type": "code",
   "execution_count": 10,
   "metadata": {},
   "outputs": [
    {
     "name": "stdout",
     "output_type": "stream",
     "text": [
      "[['C2', 'C3', 'C4', 'C5', 'C6', 'C7', 'C8', 'C9', 'CQ', 'C10', 'CK', 'CJ', 'CA'], ['S2', 'S3', 'S4', 'S5', 'S6', 'S7', 'S8', 'S9', 'SJ', 'SK', 'SQ', 'S10', 'SA'], ['H2', 'H3', 'H4', 'H5', 'H6', 'H7', 'H8', 'H9', 'HJ', 'HQ', 'HK', 'H10', 'HA'], ['D2', 'D3', 'D4', 'D5', 'D6', 'D7', 'D8', 'D9', 'DQ', 'DK', 'D10', 'DJ', 'DA']]\n"
     ]
    }
   ],
   "source": [
    "#bubble sort\n",
    "for i in range(4):\n",
    "    for j in range(len(sort[i])):\n",
    "        for k in range(0, len(sort[i])-j-1):\n",
    "            if set_value(list(sort[i][k])[1:3]) > set_value(list(sort[i][k+1])[1:3]):               \n",
    "                a = sort[i][k]\n",
    "                sort[i][k] = sort[i][k+1]\n",
    "                sort[i][k+1] = a\n",
    "        \n",
    "print(sort)"
   ]
  },
  {
   "cell_type": "code",
   "execution_count": null,
   "metadata": {},
   "outputs": [],
   "source": []
  }
 ],
 "metadata": {
  "kernelspec": {
   "display_name": "Python 3",
   "language": "python",
   "name": "python3"
  },
  "language_info": {
   "codemirror_mode": {
    "name": "ipython",
    "version": 3
   },
   "file_extension": ".py",
   "mimetype": "text/x-python",
   "name": "python",
   "nbconvert_exporter": "python",
   "pygments_lexer": "ipython3",
   "version": "3.6.5"
  }
 },
 "nbformat": 4,
 "nbformat_minor": 2
}
