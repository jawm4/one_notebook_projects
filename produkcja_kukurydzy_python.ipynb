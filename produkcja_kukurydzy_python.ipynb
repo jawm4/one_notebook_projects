{
 "cells": [
  {
   "cell_type": "markdown",
   "metadata": {},
   "source": [
    "## Produkcja kukurydzy - optymalizacja kosztów\n",
    "\n",
    "Naszym klientem jest małe gospodarstwo rolne specjalizujące się w produkcji kukurydzy. Naszym zadaniem jest wykonanie symulacji w celu oszacowania najlepszego poziomu wydatków (np. paliwo, nawozy, sprzęt) przy określonej produkcji.\n",
    "\n",
    "Zmiennymi w tym przypadku są:\n",
    "1. **Poziom wydatków** oraz **opady deszczu** wpływają na **produkcję**\n",
    "2. **Produkcja**, **cena kukurydzy**, **popyt** wpływają na **rentowność** gospodarstwa\n",
    "\n",
    "Przyjmujemy, że opady deszczu mają rozkład normalny o średniej 50 i odchyleniu standardowym 15. \n",
    "Średnia produkcja kokurydzy jest dana równaniem:\n",
    "\n",
    "\\begin{align*}\n",
    "100 * cost^{0.1} * rain^{0.2}\n",
    "\\end{align*}\n",
    "\n",
    "Natomiast kukurydza wyprodukowana w dowolnym sezonie jest opisana rozkładem Poissona.\n",
    "\n",
    "\n",
    "Jako gospodarstwo, zwykle nie mamy kontroli nad popytem i ceną. Przyjmujemy, że cena jest dana rozkładem normalnym o średniej 40 i odchyleniem 10. Popyt jest dany specjalną funkcją.\n",
    "\n",
    "W celu optymalizacji kosztów produkcji, naszym celem jest znaleźć maksymalny średni zysk. Tak jak wspominaliśmy wcześniej, my kontrolujemy tylko wydatki. Dlatego wykonujemy wiele symulacji pozostałych czynników w zależności od poziomu wydatków. Dla każdego wybranego poziomu obliczamy średni wynik z przeprowadzonych symulacji i go zapisujemy. Następnie wybieramy ten poziom wydatków, dla którego zysk jest najwyższy."
   ]
  },
  {
   "cell_type": "code",
   "execution_count": 29,
   "metadata": {},
   "outputs": [],
   "source": [
    "import numpy as np\n",
    "import matplotlib.pyplot as plt\n",
    "\n",
    "def poziom_produkcji(deszcz, koszt):\n",
    "    srednia_produkcja = 100*koszt**0.1*deszcz**0.2\n",
    "    produkcja = np.random.poisson(srednia_produkcja)\n",
    "    return produkcja\n",
    "\n",
    "def poziom_popytu(cena):\n",
    "    srednia_produkcja = 1000 - 8*cena\n",
    "    popyt = np.random.poisson(srednia_produkcja)\n",
    "    return popyt\n",
    "\n",
    "def poziom_zysku(koszt):\n",
    "    cena = np.random.normal(40, 10)\n",
    "    deszcz = np.random.normal(50, 15)\n",
    "    podaz = poziom_produkcji(deszcz, koszt)\n",
    "    popyt = poziom_popytu(cena)\n",
    "    brak_nadwyzki = podaz <= popyt\n",
    "    if brak_nadwyzki == True:\n",
    "        zysk = cena*podaz - koszt\n",
    "        return zysk\n",
    "    else:\n",
    "        zysk = cena*popyt - koszt\n",
    "        return zysk"
   ]
  },
  {
   "cell_type": "code",
   "execution_count": 34,
   "metadata": {},
   "outputs": [
    {
     "name": "stderr",
     "output_type": "stream",
     "text": [
      "C:\\Users\\mikolaj.jaworski\\AppData\\Local\\Continuum\\anaconda3\\lib\\site-packages\\ipykernel_launcher.py:7: ComplexWarning: Casting complex values to real discards the imaginary part\n",
      "  import sys\n"
     ]
    },
    {
     "data": {
      "image/png": "[encoded data removed]",
      "text/plain": [
       "<Figure size 432x288 with 1 Axes>"
      ]
     },
     "metadata": {
      "needs_background": "light"
     },
     "output_type": "display_data"
    },
    {
     "name": "stdout",
     "output_type": "stream",
     "text": [
      "Dla kosztów na poziomie: 2000 zysk będzie wynosił: 16606.07016660892\n"
     ]
    }
   ],
   "source": [
    "symulacje, wyniki = 10000, {}\n",
    "poziomy_kosztow = np.arange(100, 5100, 100)\n",
    "\n",
    "for koszt in poziomy_kosztow:\n",
    "    zyski = []\n",
    "    for i in range(symulacje):\n",
    "        x = poziom_zysku(koszt)\n",
    "        zyski.append(x)\n",
    "    wyniki[koszt] = np.mean(zyski)\n",
    "    \n",
    "\n",
    "plt.plot(wyniki.keys(), wyniki.values())\n",
    "plt.xlabel('Poziom wydatków')\n",
    "plt.ylabel('Poziom zysków')\n",
    "plt.show()\n",
    "\n",
    "print(\"Dla kosztów na poziomie \" +\n",
    "      str([x for x in wyniki.keys() if wyniki[x] == max(wyniki.values())][0]) +\n",
    "      \" zysk będzie wynosił: \" +\n",
    "      str(max(wyniki.values())))"
   ]
  },
  {
   "cell_type": "code",
   "execution_count": null,
   "metadata": {},
   "outputs": [],
   "source": []
  }
 ],
 "metadata": {
  "kernelspec": {
   "display_name": "Python 3",
   "language": "python",
   "name": "python3"
  },
  "language_info": {
   "codemirror_mode": {
    "name": "ipython",
    "version": 3
   },
   "file_extension": ".py",
   "mimetype": "text/x-python",
   "name": "python",
   "nbconvert_exporter": "python",
   "pygments_lexer": "ipython3",
   "version": "3.6.5"
  }
 },
 "nbformat": 4,
 "nbformat_minor": 2
}
