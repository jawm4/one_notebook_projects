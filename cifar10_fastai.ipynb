{
 "cells": [
  {
   "cell_type": "markdown",
   "metadata": {},
   "source": [
    "## CIFAR10 - CNN using FastAI*\n",
    "*old version of the lib\n",
    "\n",
    "### Summary\n",
    "Models were trained using transfer learning from ResNet50.\n",
    "The baseline model was built with 32x32px image size, 0.01 learning rate and it took 10 epochs. The result was **72% accuracy**. \n",
    "Presented approach is based on resizing images during training starting from 8x8, through 16x16, 24x24, to 32x32px. It improved the result up to **84% accuracy**.\n",
    "\n",
    "It is worth to mention that solutions based on SENet18 presented by FastAI community led to the accuracy close to **94%**.\n",
    "\n",
    "\n",
    "### Dataset\n",
    "CIFAR10 is well known dataset for multiple classification and it is very often used as a benchamark. It includes 60 000 PNG images and has 10 categories (6 000 observations per class). It can be downloaded from [here](https://course.fast.ai/datasets.html).\n",
    "\n",
    "### Computing\n",
    "Computations were performed on EC2 instance with GPU, which significantly improved time efficiency of the training. It was set up according to the [tutorial](https://github.com/reshamas/fastai_deeplearn_part1/blob/master/tools/aws_ami_gpu_setup.md)\n",
    "\n",
    "### FastAI library\n",
    "Current version of the library, relevant courses and blogposts can be found [here](https://www.fast.ai/)."
   ]
  },
  {
   "cell_type": "code",
   "execution_count": 1,
   "metadata": {},
   "outputs": [
    {
     "name": "stderr",
     "output_type": "stream",
     "text": [
      "/home/ubuntu/src/anaconda3/envs/fastai/lib/python3.6/site-packages/sklearn/ensemble/weight_boosting.py:29: DeprecationWarning: numpy.core.umath_tests is an internal NumPy module and should not be imported. It will be removed in a future NumPy release.\n",
      "  from numpy.core.umath_tests import inner1d\n"
     ]
    }
   ],
   "source": [
    "from fastai.imports import *\n",
    "from fastai.conv_learner import *\n",
    "\n",
    "from fastai.transforms import *\n",
    "from fastai.conv_learner import *\n",
    "from fastai.model import *\n",
    "from fastai.dataset import *\n",
    "from fastai.sgdr import *\n",
    "from fastai.plots import *"
   ]
  },
  {
   "cell_type": "code",
   "execution_count": 2,
   "metadata": {},
   "outputs": [
    {
     "data": {
      "text/plain": [
       "True"
      ]
     },
     "execution_count": 2,
     "metadata": {},
     "output_type": "execute_result"
    }
   ],
   "source": [
    "# check if CUDA is avalable\n",
    "torch.cuda.is_available()"
   ]
  },
  {
   "cell_type": "code",
   "execution_count": 3,
   "metadata": {},
   "outputs": [
    {
     "data": {
      "text/plain": [
       "True"
      ]
     },
     "execution_count": 3,
     "metadata": {},
     "output_type": "execute_result"
    }
   ],
   "source": [
    "# check if CuDNN component is enabled (significantly improves performance)\n",
    "torch.backends.cudnn.enabled"
   ]
  },
  {
   "cell_type": "code",
   "execution_count": 4,
   "metadata": {},
   "outputs": [],
   "source": [
    "PATH = \"data/cifar10/\"\n",
    "os.makedirs(PATH,exist_ok=True)\n",
    "\n",
    "#definiowanie klas\n",
    "classes = ('plane', 'car', 'bird', 'cat', 'deer', 'dog', 'frog', 'horse', 'ship', 'truck')\n",
    "#parametr okreslajacy rozmiar obrazow\n",
    "size = 32"
   ]
  },
  {
   "cell_type": "markdown",
   "metadata": {},
   "source": [
    "Below code has different components:\n",
    "1. Architecture definition (for transfer learning)\n",
    "2. ImageClassifierData creates data object for trainging with size 8x8. tfms parameter defines transformations that can be applied to the training set (resizing, cropping, normalization).\n",
    "3. ConvLearner defines the method with transfer learning\n",
    "4. In learn.fit training is being performed. The first argument is *learning_rate*, the second is number of *epochs*.\n",
    "5. lr_find helps to find optimal *learning rate*.\n",
    "6. TTA allows to compute accuracy considering that augmentations were used during training."
   ]
  },
  {
   "cell_type": "markdown",
   "metadata": {},
   "source": [
    "### 8x8"
   ]
  },
  {
   "cell_type": "code",
   "execution_count": 5,
   "metadata": {},
   "outputs": [
    {
     "data": {
      "application/vnd.jupyter.widget-view+json": {
       "model_id": "ecfd803b843e4c47943d41aeab6536e6",
       "version_major": 2,
       "version_minor": 0
      },
      "text/plain": [
       "HBox(children=(IntProgress(value=0, description='Epoch', max=1), HTML(value='')))"
      ]
     },
     "metadata": {},
     "output_type": "display_data"
    },
    {
     "name": "stdout",
     "output_type": "stream",
     "text": [
      " 84%|████████▍ | 656/782 [00:37<00:15,  8.38it/s, loss=8.01]"
     ]
    },
    {
     "data": {
      "image/png": "[encoded data removed]",
      "text/plain": [
       "<Figure size 432x288 with 1 Axes>"
      ]
     },
     "metadata": {
      "needs_background": "light"
     },
     "output_type": "display_data"
    }
   ],
   "source": [
    "arch = resnet50\n",
    "data = ImageClassifierData.from_paths(PATH, tfms=tfms_from_model(arch, 8, aug_tfms=[RandomFlip()], pad=8//8))\n",
    "learn = ConvLearner.pretrained(arch, data, pretrained=True)\n",
    "learn.lr_find()\n",
    "learn.sched.plot()"
   ]
  },
  {
   "cell_type": "code",
   "execution_count": 6,
   "metadata": {},
   "outputs": [
    {
     "data": {
      "application/vnd.jupyter.widget-view+json": {
       "model_id": "beac4f04ad5c4bc786a4f5d40fe2e830",
       "version_major": 2,
       "version_minor": 0
      },
      "text/plain": [
       "HBox(children=(IntProgress(value=0, description='Epoch', max=10), HTML(value='')))"
      ]
     },
     "metadata": {},
     "output_type": "display_data"
    },
    {
     "name": "stdout",
     "output_type": "stream",
     "text": [
      "epoch      trn_loss   val_loss   accuracy                    \n",
      "    0      1.841994   1.717492   0.3679    \n",
      "    1      1.795099   1.666475   0.3859                      \n",
      "    2      1.774438   1.670162   0.3843                      \n",
      "    3      1.725742   1.639829   0.3984                      \n",
      "    4      1.729046   1.631488   0.406                       \n",
      "    5      1.729227   1.623257   0.4059                      \n",
      "    6      1.705554   1.623556   0.4103                      \n",
      "    7      1.713612   1.617394   0.4095                      \n",
      "    8      1.720019   1.601696   0.4197                      \n",
      "    9      1.686129   1.603739   0.4191                      \n"
     ]
    },
    {
     "data": {
      "text/plain": [
       "[1.6037391904830933, 0.4191]"
      ]
     },
     "execution_count": 6,
     "metadata": {},
     "output_type": "execute_result"
    }
   ],
   "source": [
    "learn.fit(0.01, 10)"
   ]
  },
  {
   "cell_type": "code",
   "execution_count": 7,
   "metadata": {},
   "outputs": [
    {
     "data": {
      "application/vnd.jupyter.widget-view+json": {
       "model_id": "5b6e8925579d4961a43ccf9362ba38e5",
       "version_major": 2,
       "version_minor": 0
      },
      "text/plain": [
       "HBox(children=(IntProgress(value=0, description='Epoch', max=1), HTML(value='')))"
      ]
     },
     "metadata": {},
     "output_type": "display_data"
    },
    {
     "name": "stdout",
     "output_type": "stream",
     "text": [
      " 83%|████████▎ | 652/782 [01:27<00:17,  7.48it/s, loss=7.07]"
     ]
    },
    {
     "data": {
      "image/png": "[encoded data removed]",
      "text/plain": [
       "<Figure size 432x288 with 1 Axes>"
      ]
     },
     "metadata": {
      "needs_background": "light"
     },
     "output_type": "display_data"
    }
   ],
   "source": [
    "learn.unfreeze()\n",
    "learn.lr_find()\n",
    "learn.sched.plot()"
   ]
  },
  {
   "cell_type": "code",
   "execution_count": 8,
   "metadata": {},
   "outputs": [
    {
     "data": {
      "application/vnd.jupyter.widget-view+json": {
       "model_id": "0e301710f89c44f885f8f70d276f85bb",
       "version_major": 2,
       "version_minor": 0
      },
      "text/plain": [
       "HBox(children=(IntProgress(value=0, description='Epoch', max=5), HTML(value='')))"
      ]
     },
     "metadata": {},
     "output_type": "display_data"
    },
    {
     "name": "stdout",
     "output_type": "stream",
     "text": [
      "epoch      trn_loss   val_loss   accuracy                    \n",
      "    0      1.730372   1.644646   0.3839    \n",
      "    1      1.634889   1.544942   0.434                       \n",
      "    2      1.604055   1.542832   0.4357                      \n",
      "    3      1.565939   1.5477     0.4477                      \n",
      "    4      1.487357   1.444048   0.4834                      \n"
     ]
    },
    {
     "data": {
      "text/plain": [
       "[1.444048459815979, 0.4834]"
      ]
     },
     "execution_count": 8,
     "metadata": {},
     "output_type": "execute_result"
    }
   ],
   "source": [
    "learn.fit(0.01, 5)"
   ]
  },
  {
   "cell_type": "code",
   "execution_count": 9,
   "metadata": {},
   "outputs": [],
   "source": [
    "learn.save('8')\n",
    "learn.load('8')"
   ]
  },
  {
   "cell_type": "markdown",
   "metadata": {},
   "source": [
    "### 16x16"
   ]
  },
  {
   "cell_type": "code",
   "execution_count": 10,
   "metadata": {},
   "outputs": [
    {
     "data": {
      "application/vnd.jupyter.widget-view+json": {
       "model_id": "653e15adb0484d22b361518de8dc044a",
       "version_major": 2,
       "version_minor": 0
      },
      "text/plain": [
       "HBox(children=(IntProgress(value=0, description='Epoch', max=1), HTML(value='')))"
      ]
     },
     "metadata": {},
     "output_type": "display_data"
    },
    {
     "name": "stdout",
     "output_type": "stream",
     "text": [
      " 84%|████████▍ | 657/782 [00:39<00:15,  7.98it/s, loss=6.8] "
     ]
    },
    {
     "data": {
      "image/png": "[encoded data removed]",
      "text/plain": [
       "<Figure size 432x288 with 1 Axes>"
      ]
     },
     "metadata": {
      "needs_background": "light"
     },
     "output_type": "display_data"
    }
   ],
   "source": [
    "data2 = ImageClassifierData.from_paths(PATH, tfms=tfms_from_model(arch, 16, aug_tfms=[RandomFlip()], pad=16//8))\n",
    "learn.set_data(data2)\n",
    "#learn.unfreeze()\n",
    "#learn.fit(0.01, 10)\n",
    "learn.lr_find()\n",
    "learn.sched.plot()"
   ]
  },
  {
   "cell_type": "code",
   "execution_count": 12,
   "metadata": {},
   "outputs": [
    {
     "data": {
      "application/vnd.jupyter.widget-view+json": {
       "model_id": "ae340145347640c5aa8c05c9cb4fea9e",
       "version_major": 2,
       "version_minor": 0
      },
      "text/plain": [
       "HBox(children=(IntProgress(value=0, description='Epoch', max=5), HTML(value='')))"
      ]
     },
     "metadata": {},
     "output_type": "display_data"
    },
    {
     "name": "stdout",
     "output_type": "stream",
     "text": [
      "epoch      trn_loss   val_loss   accuracy                    \n",
      "    0      1.820791   1.783541   0.3602    \n",
      "    1      1.794341   1.757798   0.366                       \n",
      "    2      1.800951   1.736804   0.3756                      \n",
      "    3      1.77594    1.73031    0.3792                      \n",
      "    4      1.75319    1.701736   0.3834                      \n"
     ]
    },
    {
     "data": {
      "text/plain": [
       "[1.7017360969543458, 0.3834]"
      ]
     },
     "execution_count": 12,
     "metadata": {},
     "output_type": "execute_result"
    }
   ],
   "source": [
    "learn.fit(0.01, 5)"
   ]
  },
  {
   "cell_type": "code",
   "execution_count": 13,
   "metadata": {},
   "outputs": [
    {
     "data": {
      "application/vnd.jupyter.widget-view+json": {
       "model_id": "0bd0880a8a9d4443854f27dd103a243d",
       "version_major": 2,
       "version_minor": 0
      },
      "text/plain": [
       "HBox(children=(IntProgress(value=0, description='Epoch', max=5), HTML(value='')))"
      ]
     },
     "metadata": {},
     "output_type": "display_data"
    },
    {
     "name": "stdout",
     "output_type": "stream",
     "text": [
      "epoch      trn_loss   val_loss   accuracy                    \n",
      "    0      1.354241   1.237579   0.5542    \n",
      "    1      1.311523   1.237852   0.5566                      \n",
      "    2      1.230795   1.178909   0.5959                      \n",
      "    3      1.233136   1.082288   0.6182                      \n",
      "    4      1.149498   1.021923   0.641                       \n"
     ]
    },
    {
     "data": {
      "text/plain": [
       "[1.021922839164734, 0.641]"
      ]
     },
     "execution_count": 13,
     "metadata": {},
     "output_type": "execute_result"
    }
   ],
   "source": [
    "learn.unfreeze()\n",
    "learn.fit(0.01, 5)"
   ]
  },
  {
   "cell_type": "code",
   "execution_count": 14,
   "metadata": {},
   "outputs": [],
   "source": [
    "learn.save('16')\n",
    "learn.load('16')"
   ]
  },
  {
   "cell_type": "markdown",
   "metadata": {},
   "source": [
    "### 24x24"
   ]
  },
  {
   "cell_type": "code",
   "execution_count": 15,
   "metadata": {},
   "outputs": [
    {
     "data": {
      "application/vnd.jupyter.widget-view+json": {
       "model_id": "7498731e3a2941a3b6be4cbf7196a55d",
       "version_major": 2,
       "version_minor": 0
      },
      "text/plain": [
       "HBox(children=(IntProgress(value=0, description='Epoch', max=10), HTML(value='')))"
      ]
     },
     "metadata": {},
     "output_type": "display_data"
    },
    {
     "name": "stdout",
     "output_type": "stream",
     "text": [
      "epoch      trn_loss   val_loss   accuracy                    \n",
      "    0      1.454067   1.416143   0.5173    \n",
      "    1      1.406484   1.378693   0.5364                      \n",
      "    2      1.381062   1.388972   0.5345                      \n",
      "    3      1.386859   1.296837   0.5565                      \n",
      "    4      1.337136   1.382775   0.5322                      \n",
      "    5      1.358373   1.246636   0.5681                      \n",
      "    6      1.326848   1.29688    0.5591                      \n",
      "    7      1.296289   1.286624   0.5621                      \n",
      "    8      1.30208    1.374137   0.5422                      \n",
      "    9      1.288298   1.357387   0.5517                      \n"
     ]
    },
    {
     "data": {
      "text/plain": [
       "[1.3573873046875, 0.5517]"
      ]
     },
     "execution_count": 15,
     "metadata": {},
     "output_type": "execute_result"
    }
   ],
   "source": [
    "data3 = ImageClassifierData.from_paths(PATH, tfms=tfms_from_model(arch, 24, aug_tfms=[RandomFlip()], pad=24//8))\n",
    "learn.set_data(data3)\n",
    "#learn.unfreeze()\n",
    "learn.fit(0.01, 10)"
   ]
  },
  {
   "cell_type": "code",
   "execution_count": 16,
   "metadata": {},
   "outputs": [
    {
     "data": {
      "application/vnd.jupyter.widget-view+json": {
       "model_id": "9ff3dfb27a074bbf82f9826b4bb9be5e",
       "version_major": 2,
       "version_minor": 0
      },
      "text/plain": [
       "HBox(children=(IntProgress(value=0, description='Epoch', max=5), HTML(value='')))"
      ]
     },
     "metadata": {},
     "output_type": "display_data"
    },
    {
     "name": "stdout",
     "output_type": "stream",
     "text": [
      "epoch      trn_loss   val_loss   accuracy                    \n",
      "    0      1.197874   3.165255   0.398     \n",
      "    1      1.07831    0.937348   0.6692                      \n",
      "    2      1.016561   1.1619     0.6599                      \n",
      "    3      0.980799   0.890525   0.6883                      \n",
      "    4      0.970803   1.078035   0.6502                      \n"
     ]
    },
    {
     "data": {
      "text/plain": [
       "[1.0780350120544433, 0.6502]"
      ]
     },
     "execution_count": 16,
     "metadata": {},
     "output_type": "execute_result"
    }
   ],
   "source": [
    "learn.unfreeze()\n",
    "learn.fit(0.01, 5)"
   ]
  },
  {
   "cell_type": "code",
   "execution_count": 17,
   "metadata": {},
   "outputs": [],
   "source": [
    "learn.save('24')\n",
    "learn.load('24')"
   ]
  },
  {
   "cell_type": "markdown",
   "metadata": {},
   "source": [
    "### 32x32"
   ]
  },
  {
   "cell_type": "code",
   "execution_count": 18,
   "metadata": {},
   "outputs": [
    {
     "data": {
      "application/vnd.jupyter.widget-view+json": {
       "model_id": "7ca02c05a0f5440a937535b783a33300",
       "version_major": 2,
       "version_minor": 0
      },
      "text/plain": [
       "HBox(children=(IntProgress(value=0, description='Epoch', max=10), HTML(value='')))"
      ]
     },
     "metadata": {},
     "output_type": "display_data"
    },
    {
     "name": "stdout",
     "output_type": "stream",
     "text": [
      "epoch      trn_loss   val_loss   accuracy                    \n",
      "    0      1.122614   1.079226   0.6401    \n",
      "    1      1.103001   1.071682   0.6425                      \n",
      "    2      1.062014   1.028101   0.6487                      \n",
      "    3      1.070111   1.027066   0.6484                      \n",
      "    4      1.068586   1.019891   0.6528                      \n",
      "    5      1.06376    0.997807   0.6569                      \n",
      "    6      1.059135   0.992187   0.6545                      \n",
      "    7      1.085053   1.033822   0.6568                      \n",
      "    8      1.101753   1.016218   0.655                       \n",
      "    9      1.084468   0.999332   0.6538                      \n"
     ]
    },
    {
     "data": {
      "text/plain": [
       "[0.9993322507858277, 0.6538]"
      ]
     },
     "execution_count": 18,
     "metadata": {},
     "output_type": "execute_result"
    }
   ],
   "source": [
    "data3 = ImageClassifierData.from_paths(PATH, tfms=tfms_from_model(arch, 32, aug_tfms=[RandomFlip()], pad=32//8))\n",
    "learn.set_data(data3)\n",
    "#learn.unfreeze()\n",
    "learn.fit(0.01, 10)"
   ]
  },
  {
   "cell_type": "code",
   "execution_count": 20,
   "metadata": {},
   "outputs": [
    {
     "data": {
      "application/vnd.jupyter.widget-view+json": {
       "model_id": "",
       "version_major": 2,
       "version_minor": 0
      },
      "text/plain": [
       "HBox(children=(IntProgress(value=0, description='Epoch', max=1), HTML(value='')))"
      ]
     },
     "metadata": {},
     "output_type": "display_data"
    },
    {
     "name": "stdout",
     "output_type": "stream",
     "text": [
      " 82%|████████▏ | 639/782 [01:36<00:17,  7.99it/s, loss=2.35] "
     ]
    },
    {
     "data": {
      "image/png": "[encoded data removed]",
      "text/plain": [
       "<Figure size 432x288 with 1 Axes>"
      ]
     },
     "metadata": {
      "needs_background": "light"
     },
     "output_type": "display_data"
    }
   ],
   "source": [
    "learn.lr_find()\n",
    "learn.sched.plot()"
   ]
  },
  {
   "cell_type": "code",
   "execution_count": 21,
   "metadata": {},
   "outputs": [
    {
     "data": {
      "application/vnd.jupyter.widget-view+json": {
       "model_id": "4ddd0cd0f5bd426d893b76042b9f5543",
       "version_major": 2,
       "version_minor": 0
      },
      "text/plain": [
       "HBox(children=(IntProgress(value=0, description='Epoch', max=10), HTML(value='')))"
      ]
     },
     "metadata": {},
     "output_type": "display_data"
    },
    {
     "name": "stdout",
     "output_type": "stream",
     "text": [
      "epoch      trn_loss   val_loss   accuracy                    \n",
      "    0      0.602603   0.561687   0.81      \n",
      "    1      0.577932   0.54847    0.8133                      \n",
      "    2      0.583376   0.537065   0.8178                      \n",
      "    3      0.550821   0.527588   0.8217                      \n",
      "    4      0.572696   0.523802   0.8213                      \n",
      "    5      0.556596   0.525484   0.8237                      \n",
      "    6      0.521291   0.516967   0.8246                      \n",
      "    7      0.531459   0.511428   0.8267                      \n",
      "    8      0.527906   0.507971   0.8265                      \n",
      "    9      0.511773   0.508322   0.8268                      \n"
     ]
    },
    {
     "data": {
      "text/plain": [
       "[0.5083223731040954, 0.8268]"
      ]
     },
     "execution_count": 21,
     "metadata": {},
     "output_type": "execute_result"
    }
   ],
   "source": [
    "learn.unfreeze()\n",
    "learn.fit(0.001, 10)"
   ]
  },
  {
   "cell_type": "markdown",
   "metadata": {},
   "source": [
    "### Results - accuracy"
   ]
  },
  {
   "cell_type": "code",
   "execution_count": 28,
   "metadata": {},
   "outputs": [
    {
     "data": {
      "text/plain": [
       "0.8394"
      ]
     },
     "execution_count": 28,
     "metadata": {},
     "output_type": "execute_result"
    }
   ],
   "source": [
    "log_preds,y = learn.TTA()\n",
    "probs = np.mean(np.exp(log_preds),0)\n",
    "accuracy_np(probs, y)"
   ]
  },
  {
   "cell_type": "code",
   "execution_count": null,
   "metadata": {},
   "outputs": [],
   "source": []
  }
 ],
 "metadata": {
  "kernelspec": {
   "display_name": "Python 3",
   "language": "python",
   "name": "python3"
  },
  "language_info": {
   "codemirror_mode": {
    "name": "ipython",
    "version": 3
   },
   "file_extension": ".py",
   "mimetype": "text/x-python",
   "name": "python",
   "nbconvert_exporter": "python",
   "pygments_lexer": "ipython3",
   "version": "3.6.5"
  }
 },
 "nbformat": 4,
 "nbformat_minor": 2
}
